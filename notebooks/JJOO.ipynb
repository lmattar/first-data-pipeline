{
 "cells": [
  {
   "cell_type": "code",
   "execution_count": 6,
   "id": "67dae347",
   "metadata": {},
   "outputs": [],
   "source": [
    "import requests\n",
    "import pandas as pd"
   ]
  },
  {
   "cell_type": "markdown",
   "id": "b4420c54",
   "metadata": {},
   "source": [
    "# Top 10 Paises Mas Ganadores"
   ]
  },
  {
   "cell_type": "code",
   "execution_count": 15,
   "id": "00f60f67",
   "metadata": {},
   "outputs": [
    {
     "data": {
      "text/plain": [
       "<AxesSubplot:xlabel='country'>"
      ]
     },
     "execution_count": 15,
     "metadata": {},
     "output_type": "execute_result"
    },
    {
     "data": {
      "image/png": "[encoded data removed]",
      "text/plain": [
       "<Figure size 432x288 with 1 Axes>"
      ]
     },
     "metadata": {
      "needs_background": "light"
     },
     "output_type": "display_data"
    }
   ],
   "source": [
    "r = requests.get('http://fastapi:8001/top10')\n",
    "df = pd.read_json(r.text)\n",
    "df.plot(x=\"country\",y=\"medals\",kind=\"bar\")"
   ]
  },
  {
   "cell_type": "markdown",
   "id": "09a58068",
   "metadata": {},
   "source": [
    "# Disciplinas en las que destacan los 3 paises mas ganadores"
   ]
  },
  {
   "cell_type": "code",
   "execution_count": 24,
   "id": "d909cfe8",
   "metadata": {},
   "outputs": [
    {
     "data": {
      "text/html": [
       "<div>\n",
       "<style scoped>\n",
       "    .dataframe tbody tr th:only-of-type {\n",
       "        vertical-align: middle;\n",
       "    }\n",
       "\n",
       "    .dataframe tbody tr th {\n",
       "        vertical-align: top;\n",
       "    }\n",
       "\n",
       "    .dataframe thead th {\n",
       "        text-align: right;\n",
       "    }\n",
       "</style>\n",
       "<table border=\"1\" class=\"dataframe\">\n",
       "  <thead>\n",
       "    <tr style=\"text-align: right;\">\n",
       "      <th></th>\n",
       "      <th>country</th>\n",
       "      <th>discipline</th>\n",
       "      <th>medals</th>\n",
       "    </tr>\n",
       "  </thead>\n",
       "  <tbody>\n",
       "    <tr>\n",
       "      <th>0</th>\n",
       "      <td>GBR</td>\n",
       "      <td>Athletics</td>\n",
       "      <td>295</td>\n",
       "    </tr>\n",
       "    <tr>\n",
       "      <th>1</th>\n",
       "      <td>GBR</td>\n",
       "      <td>Rowing</td>\n",
       "      <td>244</td>\n",
       "    </tr>\n",
       "    <tr>\n",
       "      <th>2</th>\n",
       "      <td>GBR</td>\n",
       "      <td>Sailing</td>\n",
       "      <td>134</td>\n",
       "    </tr>\n",
       "    <tr>\n",
       "      <th>3</th>\n",
       "      <td>GBR</td>\n",
       "      <td>Hockey</td>\n",
       "      <td>126</td>\n",
       "    </tr>\n",
       "    <tr>\n",
       "      <th>4</th>\n",
       "      <td>GBR</td>\n",
       "      <td>Cycling Track</td>\n",
       "      <td>121</td>\n",
       "    </tr>\n",
       "    <tr>\n",
       "      <th>...</th>\n",
       "      <td>...</td>\n",
       "      <td>...</td>\n",
       "      <td>...</td>\n",
       "    </tr>\n",
       "    <tr>\n",
       "      <th>115</th>\n",
       "      <td>USA</td>\n",
       "      <td>Mountain Bike</td>\n",
       "      <td>2</td>\n",
       "    </tr>\n",
       "    <tr>\n",
       "      <th>116</th>\n",
       "      <td>USA</td>\n",
       "      <td>Marathon swimming</td>\n",
       "      <td>1</td>\n",
       "    </tr>\n",
       "    <tr>\n",
       "      <th>117</th>\n",
       "      <td>USA</td>\n",
       "      <td>Figure skating</td>\n",
       "      <td>1</td>\n",
       "    </tr>\n",
       "    <tr>\n",
       "      <th>118</th>\n",
       "      <td>USA</td>\n",
       "      <td>Jeu de Paume</td>\n",
       "      <td>1</td>\n",
       "    </tr>\n",
       "    <tr>\n",
       "      <th>119</th>\n",
       "      <td>USA</td>\n",
       "      <td>Triathlon</td>\n",
       "      <td>1</td>\n",
       "    </tr>\n",
       "  </tbody>\n",
       "</table>\n",
       "<p>120 rows × 3 columns</p>\n",
       "</div>"
      ],
      "text/plain": [
       "    country         discipline  medals\n",
       "0       GBR          Athletics     295\n",
       "1       GBR             Rowing     244\n",
       "2       GBR            Sailing     134\n",
       "3       GBR             Hockey     126\n",
       "4       GBR      Cycling Track     121\n",
       "..      ...                ...     ...\n",
       "115     USA      Mountain Bike       2\n",
       "116     USA  Marathon swimming       1\n",
       "117     USA     Figure skating       1\n",
       "118     USA       Jeu de Paume       1\n",
       "119     USA          Triathlon       1\n",
       "\n",
       "[120 rows x 3 columns]"
      ]
     },
     "execution_count": 24,
     "metadata": {},
     "output_type": "execute_result"
    }
   ],
   "source": [
    "r = requests.get('http://fastapi:8001/top3disciplines')\n",
    "df = pd.read_json(r.text)\n",
    "df"
   ]
  },
  {
   "cell_type": "markdown",
   "id": "39b39615",
   "metadata": {},
   "source": [
    "# Cantidad de medallas entregadas "
   ]
  },
  {
   "cell_type": "code",
   "execution_count": 28,
   "id": "014916c3",
   "metadata": {},
   "outputs": [
    {
     "data": {
      "text/plain": [
       "<AxesSubplot:xlabel='year'>"
      ]
     },
     "execution_count": 28,
     "metadata": {},
     "output_type": "execute_result"
    },
    {
     "data": {
      "image/png": "[encoded data removed]",
      "text/plain": [
       "<Figure size 432x288 with 1 Axes>"
      ]
     },
     "metadata": {
      "needs_background": "light"
     },
     "output_type": "display_data"
    }
   ],
   "source": [
    "r = requests.get('http://fastapi:8001/medalsbyyear')\n",
    "df = pd.read_json(r.text)\n",
    "df.plot(x=\"year\",y=\"medallas\",kind=\"bar\")"
   ]
  },
  {
   "cell_type": "markdown",
   "id": "0a7fdf6a",
   "metadata": {},
   "source": [
    "# Cantidas de medallas por tipo"
   ]
  },
  {
   "cell_type": "code",
   "execution_count": 31,
   "id": "ea3ffc9e",
   "metadata": {},
   "outputs": [
    {
     "data": {
      "text/plain": [
       "<AxesSubplot:xlabel='medal'>"
      ]
     },
     "execution_count": 31,
     "metadata": {},
     "output_type": "execute_result"
    },
    {
     "data": {
      "image/png": "[encoded data removed]",
      "text/plain": [
       "<Figure size 432x288 with 1 Axes>"
      ]
     },
     "metadata": {
      "needs_background": "light"
     },
     "output_type": "display_data"
    }
   ],
   "source": [
    "r = requests.get('http://fastapi:8001/medalsbytype')\n",
    "df = pd.read_json(r.text)\n",
    "df.plot(x=\"medal\",y=\"count\",kind=\"bar\")"
   ]
  },
  {
   "cell_type": "markdown",
   "id": "13a0f0ea",
   "metadata": {},
   "source": [
    "# deportistas que ganaron medallas en mas de una disciplina"
   ]
  },
  {
   "cell_type": "code",
   "execution_count": 33,
   "id": "925b680d",
   "metadata": {},
   "outputs": [
    {
     "data": {
      "text/html": [
       "<div>\n",
       "<style scoped>\n",
       "    .dataframe tbody tr th:only-of-type {\n",
       "        vertical-align: middle;\n",
       "    }\n",
       "\n",
       "    .dataframe tbody tr th {\n",
       "        vertical-align: top;\n",
       "    }\n",
       "\n",
       "    .dataframe thead th {\n",
       "        text-align: right;\n",
       "    }\n",
       "</style>\n",
       "<table border=\"1\" class=\"dataframe\">\n",
       "  <thead>\n",
       "    <tr style=\"text-align: right;\">\n",
       "      <th></th>\n",
       "      <th>athlete</th>\n",
       "      <th>count</th>\n",
       "    </tr>\n",
       "  </thead>\n",
       "  <tbody>\n",
       "    <tr>\n",
       "      <th>0</th>\n",
       "      <td>KUNGLER; Frank</td>\n",
       "      <td>3</td>\n",
       "    </tr>\n",
       "    <tr>\n",
       "      <th>1</th>\n",
       "      <td>KARLSSON; Jan</td>\n",
       "      <td>3</td>\n",
       "    </tr>\n",
       "    <tr>\n",
       "      <th>2</th>\n",
       "      <td>KUZNETSOV; Nikolai</td>\n",
       "      <td>3</td>\n",
       "    </tr>\n",
       "    <tr>\n",
       "      <th>3</th>\n",
       "      <td>KNOX; Bronwen</td>\n",
       "      <td>2</td>\n",
       "    </tr>\n",
       "    <tr>\n",
       "      <th>4</th>\n",
       "      <td>PETRI; Heather</td>\n",
       "      <td>2</td>\n",
       "    </tr>\n",
       "    <tr>\n",
       "      <th>...</th>\n",
       "      <td>...</td>\n",
       "      <td>...</td>\n",
       "    </tr>\n",
       "    <tr>\n",
       "      <th>239</th>\n",
       "      <td>SMITH; David</td>\n",
       "      <td>2</td>\n",
       "    </tr>\n",
       "    <tr>\n",
       "      <th>240</th>\n",
       "      <td>SANTONI; Elisa</td>\n",
       "      <td>2</td>\n",
       "    </tr>\n",
       "    <tr>\n",
       "      <th>241</th>\n",
       "      <td>KOLESNIKOV; Nikolai</td>\n",
       "      <td>2</td>\n",
       "    </tr>\n",
       "    <tr>\n",
       "      <th>242</th>\n",
       "      <td>JOHANSSON; Ivar</td>\n",
       "      <td>2</td>\n",
       "    </tr>\n",
       "    <tr>\n",
       "      <th>243</th>\n",
       "      <td>LEQUIO DI ASSABA; Tommaso</td>\n",
       "      <td>2</td>\n",
       "    </tr>\n",
       "  </tbody>\n",
       "</table>\n",
       "<p>244 rows × 2 columns</p>\n",
       "</div>"
      ],
      "text/plain": [
       "                       athlete  count\n",
       "0               KUNGLER; Frank      3\n",
       "1                KARLSSON; Jan      3\n",
       "2           KUZNETSOV; Nikolai      3\n",
       "3                KNOX; Bronwen      2\n",
       "4               PETRI; Heather      2\n",
       "..                         ...    ...\n",
       "239               SMITH; David      2\n",
       "240             SANTONI; Elisa      2\n",
       "241        KOLESNIKOV; Nikolai      2\n",
       "242            JOHANSSON; Ivar      2\n",
       "243  LEQUIO DI ASSABA; Tommaso      2\n",
       "\n",
       "[244 rows x 2 columns]"
      ]
     },
     "execution_count": 33,
     "metadata": {},
     "output_type": "execute_result"
    }
   ],
   "source": [
    "r = requests.get('http://fastapi:8001/disciplines')\n",
    "df = pd.read_json(r.text)\n",
    "df"
   ]
  },
  {
   "cell_type": "code",
   "execution_count": null,
   "id": "af1eeb5b",
   "metadata": {},
   "outputs": [],
   "source": []
  }
 ],
 "metadata": {
  "kernelspec": {
   "display_name": "Python 3 (ipykernel)",
   "language": "python",
   "name": "python3"
  },
  "language_info": {
   "codemirror_mode": {
    "name": "ipython",
    "version": 3
   },
   "file_extension": ".py",
   "mimetype": "text/x-python",
   "name": "python",
   "nbconvert_exporter": "python",
   "pygments_lexer": "ipython3",
   "version": "3.9.6"
  }
 },
 "nbformat": 4,
 "nbformat_minor": 5
}
